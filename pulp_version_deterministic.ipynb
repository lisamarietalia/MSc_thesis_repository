{
 "cells": [
  {
   "cell_type": "markdown",
   "metadata": {},
   "source": [
    "# Python code version with pulp optimizer"
   ]
  },
  {
   "cell_type": "code",
   "execution_count": 2,
   "metadata": {},
   "outputs": [],
   "source": [
    "from pulp import *\n",
    "import pandas as pd"
   ]
  },
  {
   "cell_type": "code",
   "execution_count": 3,
   "metadata": {},
   "outputs": [],
   "source": [
    "# import climate data. Here I choose 3 of them\n",
    "hw85 = pd.read_csv( r\"C:\\\\Users\\\\NLLIST\\\\OneDrive - Sweco AB\\\\Thesis\\\\Climate data\\\\rcp85\\\\hotdays.csv\", delimiter=',' , header=None)\n",
    "hr85 = pd.read_csv( r\"C:\\\\Users\\\\NLLIST\\\\OneDrive - Sweco AB\\\\Thesis\\\\Climate data\\\\rcp85\\\\mediumrain.csv\", delimiter=',' , header=None)\n",
    "sp85=  pd.read_csv( r\"C:\\Users\\NLLIST\\OneDrive - Sweco AB\\Thesis\\Climate data\\rcp85\\sunpeak.csv\", delimiter=' ' , header=None)"
   ]
  },
  {
   "cell_type": "code",
   "execution_count": 4,
   "metadata": {},
   "outputs": [],
   "source": [
    "#import buildings data, derived from processing of \n",
    "pand = pd.read_csv(r\"C:\\Users\\NLLIST\\Desktop\\Thesis\\try6\\Merged.csv\")"
   ]
  },
  {
   "cell_type": "code",
   "execution_count": 5,
   "metadata": {},
   "outputs": [],
   "source": [
    "#Roofs parameters, work with dict\n",
    "a=pand[\"_area\"] \n",
    "roofs = range(len(a)) \n",
    "a=dict(zip(roofs,pand['_area']))\n",
    "\n",
    "#green\n",
    "rg=dict(zip(roofs,pand['rg'])) \n",
    "ig=dict(zip(roofs,pand['ig']))\n",
    "\n",
    "#blue\n",
    "rb=dict(zip(roofs,pand['rb']))\n",
    "\n",
    "#yellow\n",
    "ry = dict(zip(roofs,pand['ry']))"
   ]
  },
  {
   "cell_type": "code",
   "execution_count": 6,
   "metadata": {},
   "outputs": [],
   "source": [
    "#Roofs parameters, depending also on climate variables.\n",
    "#blue\n",
    "\n",
    "cb85=pand[\"cb\"]/(1000*len(hr85)) \n",
    "\n",
    "r85=hr85[1]\n",
    "\n",
    "#green\n",
    "\n",
    "# we cosider heat can be mitigated thanks to the presence of green roofs only when the\n",
    "# temperatures are between 25 (excluded) and 31 degrees. A higher temperature won't allow for any relief, \n",
    "# while a lower temprature is not considered as damaging\n",
    "\n",
    "#so we scale impacted people amount ig on the temperature, assuming it is max in correspondence of 31 degrees\n",
    "\n",
    "h85=hw85[1]\n",
    "\n",
    "h85 = h85[(h85 >=25) & (h85 <=31)]\n",
    "h85= h85.reset_index(drop=True) # indexing has to be updated in order to further process the vector\n",
    "\n",
    "w, r = len(h85), len(a); #create a matrix with dimensions roofs x heat events\n",
    "m85 = [[0 for j in range(w)] for i in range(r)] \n",
    "for i in range(r):\n",
    "    for j in range(w):\n",
    "        m85[i][j]=ig[i]+(ig[i]/5)*(h85[j]-30)        \n",
    "\n",
    "m85=pd.Series(m85).fillna(0).tolist()\n",
    "\n",
    "#yellow\n",
    "ds85=int(sp85.sum())\n"
   ]
  },
  {
   "cell_type": "code",
   "execution_count": 7,
   "metadata": {},
   "outputs": [],
   "source": [
    "#Model parameters. They are uncertain but here considered \n",
    "cg= 5000\n",
    "kb=0.8\n",
    "kg=0.8\n",
    "Q=187.5\n",
    "theta= 0.05\n",
    "hg=10\n",
    "cy=0.0700734/1000\n",
    "\n",
    "# technical parameters not uncertain\n",
    "hg=10 # DEPTH OF WATER RETENTION LAYER for green roof\n",
    "\n",
    "# Choose the budget\n",
    "B=5000000\n",
    "\n",
    "# # Choose the subsidy rate \n",
    "sub=0.2\n",
    "\n",
    "# # Prices per m2 of roof type\n",
    "py=315 #YR\n",
    "pb=30 #BR\n",
    "pg=80 #GR"
   ]
  },
  {
   "cell_type": "code",
   "execution_count": 8,
   "metadata": {},
   "outputs": [],
   "source": [
    "#Big M value for big M method used to linearize a non-linear expression\n",
    "M=99999"
   ]
  },
  {
   "cell_type": "code",
   "execution_count": 9,
   "metadata": {},
   "outputs": [],
   "source": [
    "# choose the solver that pulp will use. The one mentioned here comes with the pulp package\n",
    "solver = PULP_CBC_CMD(keepFiles=True)"
   ]
  },
  {
   "cell_type": "markdown",
   "metadata": {},
   "source": [
    "## Model is constructed here in its linearized version "
   ]
  },
  {
   "cell_type": "code",
   "execution_count": 10,
   "metadata": {},
   "outputs": [],
   "source": [
    "model = LpProblem(\"Roofs\",LpMaximize)\n",
    "\n",
    "yGR = LpVariable.dicts(\"Green_roof\",roofs,cat='Binary')\n",
    "yBR = LpVariable.dicts(\"Blue_roof\",roofs,cat='Binary')\n",
    "xYR = LpVariable.dicts(\"Yellow_roof\",roofs,lowBound=0,cat='Continuous')\n",
    "\n",
    "bGR = LpVariable.dict(\"Green_roof_benefit\", range(1), lowBound=0,cat='Continuous')\n",
    "bBR = LpVariable.dict(\"Blue_roof_benefit\", range(1), lowBound=0,cat='Continuous')\n",
    "bYR = LpVariable.dict(\"Yellow_roof_benefit\",range(1), lowBound=0,cat='Continuous')\n",
    "\n",
    "s1 = LpVariable.dicts(\"slack1\",roofs,lowBound=0,cat='Continuous')\n",
    "s2 = LpVariable.dicts(\"slack2\",roofs,lowBound=0,cat='Continuous')\n",
    "\n",
    "\n",
    "for i in roofs:\n",
    "    model+= xYR[i] <= a[i]\n",
    "    model+= yGR[i]>=yBR[i] \n",
    "    model+= s1[i]+s2[i]==xYR[i]\n",
    "    model+= s1[i]<=M*yGR[i]\n",
    "    model+= s2[i]<=M*(1-yGR[i])\n",
    "    \n",
    "model+= lpSum(sub*(pg*yGR[i]*a[i] + pb*yBR[i]*a[i] + py*xYR[i] ) for i in roofs) <= B \n",
    "model+= bGR== lpSum(lpSum((1/3)*cg*m85[i][w] *rg[i] *yGR[i] for w in range(len(h85))) + lpSum((1/3)*cg*m45[i][w] *rg[i] *yGR[i] for w in range(len(h45))) + lpSum((1/3)*cg*m26[i][w] *rg[i] *yGR[i] for w in range(len(h26))) for i in roofs)\n",
    "model+= bBR==lpSum(lpSum((1/3)*cb85[i]*a[i]*(kb*r85[j]*yBR[i]+kg*hg*yGR[i])*rb[i] for j in range(len(r85))) + lpSum((1/3)*cb45[i]*a[i]*(kb*r45[j]*yBR[i]+kg*hg*yGR[i])*rb[i] for j in range(len(r45))) + lpSum((1/3)*cb26[i]*a[i]*(kb*r26[j]*yBR[i]+kg*hg*yGR[i])*rb[i] for j in range(len(r26))) for i in roofs)\n",
    "model+= bYR==lpSum((1/3)*cy*Q*ds85*ry[i]*(xYR[i]+theta*s1[i]) + (1/3)*cy*Q*ds45*ry[i]*(xYR[i]+theta*s1[i]) + (1/3)*cy*Q*ds26*ry[i]*(xYR[i]+theta*s1[i]) for i in roofs)\n",
    "\n",
    "model+= lpSum(bGR)+lpSum(bBR)+lpSum(bYR) \n"
   ]
  },
  {
   "cell_type": "code",
   "execution_count": 11,
   "metadata": {},
   "outputs": [
    {
     "data": {
      "text/plain": [
       "1"
      ]
     },
     "execution_count": 11,
     "metadata": {},
     "output_type": "execute_result"
    }
   ],
   "source": [
    "model.solve(solver)"
   ]
  },
  {
   "cell_type": "code",
   "execution_count": 12,
   "metadata": {},
   "outputs": [
    {
     "name": "stdout",
     "output_type": "stream",
     "text": [
      "Status: Optimal\n"
     ]
    }
   ],
   "source": [
    "print(\"Status:\", LpStatus[model.status])"
   ]
  },
  {
   "cell_type": "code",
   "execution_count": 13,
   "metadata": {},
   "outputs": [
    {
     "name": "stdout",
     "output_type": "stream",
     "text": [
      "Blue_roof_667 = 1.0\n",
      "Blue_roof_benefit_0 = 51591.11\n",
      "Green_roof_1002 = 1.0\n",
      "Green_roof_1044 = 1.0\n",
      "Green_roof_1056 = 1.0\n",
      "Green_roof_270 = 1.0\n",
      "Green_roof_279 = 1.0\n",
      "Green_roof_328 = 1.0\n",
      "Green_roof_352 = 1.0\n",
      "Green_roof_361 = 1.0\n",
      "Green_roof_394 = 1.0\n",
      "Green_roof_434 = 1.0\n",
      "Green_roof_470 = 1.0\n",
      "Green_roof_526 = 1.0\n",
      "Green_roof_563 = 1.0\n",
      "Green_roof_597 = 1.0\n",
      "Green_roof_605 = 1.0\n",
      "Green_roof_667 = 1.0\n",
      "Green_roof_681 = 1.0\n",
      "Green_roof_823 = 1.0\n",
      "Green_roof_841 = 1.0\n",
      "Green_roof_benefit_0 = 1002413.2\n",
      "Yellow_roof_1002 = 1853.8746\n",
      "Yellow_roof_1004 = 1061.351\n",
      "Yellow_roof_1014 = 1062.6734\n",
      "Yellow_roof_1017 = 1226.6301\n",
      "Yellow_roof_1087 = 448.17837\n",
      "Yellow_roof_1094 = 1531.8447\n",
      "Yellow_roof_1103 = 530.98979\n",
      "Yellow_roof_259 = 781.60276\n",
      "Yellow_roof_262 = 4907.5979\n",
      "Yellow_roof_270 = 510.86801\n",
      "Yellow_roof_284 = 159.38031\n",
      "Yellow_roof_290 = 703.29557\n",
      "Yellow_roof_301 = 2390.7282\n",
      "Yellow_roof_320 = 452.37141\n",
      "Yellow_roof_352 = 1259.0086\n",
      "Yellow_roof_394 = 1490.6802\n",
      "Yellow_roof_396 = 865.60338\n",
      "Yellow_roof_417 = 316.56426\n",
      "Yellow_roof_422 = 106.56015\n",
      "Yellow_roof_426 = 8001.2077\n",
      "Yellow_roof_434 = 946.27578\n",
      "Yellow_roof_446 = 861.97032\n",
      "Yellow_roof_492 = 963.21007\n",
      "Yellow_roof_504 = 283.80144\n",
      "Yellow_roof_509 = 837.50318\n",
      "Yellow_roof_518 = 444.88088\n",
      "Yellow_roof_544 = 480.86034\n",
      "Yellow_roof_547 = 376.68631\n",
      "Yellow_roof_563 = 810.14969\n",
      "Yellow_roof_566 = 460.24709\n",
      "Yellow_roof_584 = 472.38219\n",
      "Yellow_roof_605 = 720.24157\n",
      "Yellow_roof_664 = 7794.3692\n",
      "Yellow_roof_667 = 1645.4504\n",
      "Yellow_roof_682 = 151.03311\n",
      "Yellow_roof_683 = 1850.1464\n",
      "Yellow_roof_746 = 428.09612\n",
      "Yellow_roof_820 = 397.15511\n",
      "Yellow_roof_823 = 1277.944\n",
      "Yellow_roof_830 = 400.00253\n",
      "Yellow_roof_841 = 799.93657\n",
      "Yellow_roof_858 = 12902.813\n",
      "Yellow_roof_868 = 4656.1302\n",
      "Yellow_roof_884 = 124.54845\n",
      "Yellow_roof_889 = 179.18905\n",
      "Yellow_roof_907 = 803.43486\n",
      "Yellow_roof_915 = 624.56029\n",
      "Yellow_roof_937 = 1446.7765\n",
      "Yellow_roof_974 = 818.71481\n",
      "Yellow_roof_benefit_0 = 8103665.9\n",
      "slack1_1002 = 1853.8746\n",
      "slack1_270 = 510.86801\n",
      "slack1_352 = 1259.0086\n",
      "slack1_394 = 1490.6802\n",
      "slack1_434 = 946.27578\n",
      "slack1_563 = 810.14969\n",
      "slack1_605 = 720.24157\n",
      "slack1_667 = 1645.4504\n",
      "slack1_823 = 1277.944\n",
      "slack1_841 = 799.93657\n",
      "slack2_1004 = 1061.351\n",
      "slack2_1014 = 1062.6734\n",
      "slack2_1017 = 1226.6301\n",
      "slack2_1087 = 448.17837\n",
      "slack2_1094 = 1531.8447\n",
      "slack2_1103 = 530.98979\n",
      "slack2_259 = 781.60276\n",
      "slack2_262 = 4907.5979\n",
      "slack2_284 = 159.38031\n",
      "slack2_290 = 703.29557\n",
      "slack2_301 = 2390.7282\n",
      "slack2_320 = 452.37141\n",
      "slack2_396 = 865.60338\n",
      "slack2_417 = 316.56426\n",
      "slack2_422 = 106.56015\n",
      "slack2_426 = 8001.2077\n",
      "slack2_446 = 861.97032\n",
      "slack2_492 = 963.21007\n",
      "slack2_504 = 283.80144\n",
      "slack2_509 = 837.50318\n",
      "slack2_518 = 444.88088\n",
      "slack2_544 = 480.86034\n",
      "slack2_547 = 376.68631\n",
      "slack2_566 = 460.24709\n",
      "slack2_584 = 472.38219\n",
      "slack2_664 = 7794.3692\n",
      "slack2_682 = 151.03311\n",
      "slack2_683 = 1850.1464\n",
      "slack2_746 = 428.09612\n",
      "slack2_820 = 397.15511\n",
      "slack2_830 = 400.00253\n",
      "slack2_858 = 12902.813\n",
      "slack2_868 = 4656.1302\n",
      "slack2_884 = 124.54845\n",
      "slack2_889 = 179.18905\n",
      "slack2_907 = 803.43486\n",
      "slack2_915 = 624.56029\n",
      "slack2_937 = 1446.7765\n",
      "slack2_974 = 818.71481\n"
     ]
    }
   ],
   "source": [
    "for v in model.variables():\n",
    "    if v.varValue>0:\n",
    "        print(v.name, \"=\", v.varValue)"
   ]
  },
  {
   "cell_type": "code",
   "execution_count": 30,
   "metadata": {},
   "outputs": [],
   "source": [
    "ind=[]\n",
    "\n",
    "\n",
    "gr_v=[]\n",
    "br_v=[]\n",
    "yr_v=[]\n",
    "ro=len(a)\n",
    "\n",
    "gr_ben=model.variables()[2*ro+1].varValue\n",
    "br_ben=model.variables()[ro].varValue\n",
    "yr_ben=model.variables()[3*ro+2].varValue\n",
    "for i in range(ro):\n",
    "    ind.append(str(model.variables()[i]).split('_')[2])\n",
    "    \n",
    "    br_v.append(model.variables()[i].varValue)\n",
    "    gr_v.append(model.variables()[i+ro+1].varValue)\n",
    "    yr_v.append(model.variables()[i+2*ro+2].varValue)\n",
    "\n",
    "# In[169]:\n",
    "\n",
    "ind2 = list(map(int, ind))\n",
    "gr=gr_v\n",
    "br=br_v\n",
    "yr=yr_v\n",
    "\n",
    "j=0\n",
    "for i in ind2:\n",
    "    gr[i]=gr_v[j]*a[i]\n",
    "    br[i]=br_v[j]*a[i]\n",
    "    yr[i]=yr_v[j]\n",
    "    \n",
    "    j=j+1\n",
    "    \n"
   ]
  },
  {
   "cell_type": "code",
   "execution_count": 31,
   "metadata": {},
   "outputs": [],
   "source": [
    "ind=pd.DataFrame(ind, columns=['ind'])\n",
    "gr_v=pd.DataFrame(gr_v, columns=['gr'])\n",
    "br_v=pd.DataFrame(br_v, columns=['br'])\n",
    "yr_v=pd.DataFrame(yr_v, columns=['yr'])"
   ]
  },
  {
   "cell_type": "code",
   "execution_count": null,
   "metadata": {},
   "outputs": [],
   "source": [
    "p=pd.concat([pand.iloc[:,0],gr,br,yr],axis=1  ) \n",
    "benefits=['heat mitigation benefits:', str(gr_ben), 'flooding mitigation benfits:', str(br_ben)]"
   ]
  },
  {
   "cell_type": "code",
   "execution_count": null,
   "metadata": {},
   "outputs": [],
   "source": [
    "p.to_csv(r\"pathout\\filename.csv\")"
   ]
  },
  {
   "cell_type": "code",
   "execution_count": null,
   "metadata": {},
   "outputs": [],
   "source": [
    "textfile=open(pathout\\file.txt, 'w')\n",
    "for element in benefits:\n",
    "    textfile.write(element +'\\n')\n",
    "textfile.close()"
   ]
  }
 ],
 "metadata": {
  "kernelspec": {
   "display_name": "Python 3",
   "language": "python",
   "name": "python3"
  },
  "language_info": {
   "codemirror_mode": {
    "name": "ipython",
    "version": 3
   },
   "file_extension": ".py",
   "mimetype": "text/x-python",
   "name": "python",
   "nbconvert_exporter": "python",
   "pygments_lexer": "ipython3",
   "version": "3.8.5"
  }
 },
 "nbformat": 4,
 "nbformat_minor": 4
}
